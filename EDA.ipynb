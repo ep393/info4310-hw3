{
 "cells": [
  {
   "cell_type": "code",
   "outputs": [
    {
     "name": "stderr",
     "output_type": "stream",
     "text": [
      "/var/folders/_z/q4gsch7n2jn4pky14jnx_2p80000gn/T/ipykernel_70870/3012821911.py:3: DeprecationWarning: \n",
      "Pyarrow will become a required dependency of pandas in the next major release of pandas (pandas 3.0),\n",
      "(to allow more performant data types, such as the Arrow string type, and better interoperability with other libraries)\n",
      "but was not found to be installed on your system.\n",
      "If this would cause problems for you,\n",
      "please provide us feedback at https://github.com/pandas-dev/pandas/issues/54466\n",
      "        \n",
      "  import pandas as pd\n"
     ]
    }
   ],
   "source": [
    "import json\n",
    "\n",
    "import pandas as pd\n",
    "import matplotlib.pyplot as plt"
   ],
   "metadata": {
    "collapsed": false,
    "ExecuteTime": {
     "end_time": "2024-03-06T17:24:22.979627Z",
     "start_time": "2024-03-06T17:24:22.129868Z"
    }
   },
   "id": "b8f46fe5b59e2e7a",
   "execution_count": 1
  },
  {
   "cell_type": "code",
   "outputs": [],
   "source": [
    "# df contains ratings, not restaurant aggregate info??\n",
    "df = pd.read_csv('yelp_boston.csv')\n",
    "df.drop(inplace=True, columns=[\"url\"])"
   ],
   "metadata": {
    "collapsed": false,
    "ExecuteTime": {
     "end_time": "2024-03-06T17:24:23.025471Z",
     "start_time": "2024-03-06T17:24:22.974201Z"
    }
   },
   "id": "bfb3957ce308c685",
   "execution_count": 2
  },
  {
   "cell_type": "markdown",
   "source": [
    "# Figuring out merging rows about the same restaurant"
   ],
   "metadata": {
    "collapsed": false
   },
   "id": "5d29deefd56918"
  },
  {
   "cell_type": "code",
   "outputs": [
    {
     "data": {
      "text/plain": "                             name  review_count  \\\n0                      Wheelhouse           101   \n1                  Tenoch Mexican           121   \n2                            O Ya           450   \n3                          Locale           121   \n4                  Neptune Oyster          2487   \n..                            ...           ...   \n338                     El Madina             8   \n339           The Shops at Porter            79   \n340  Bazaar International Gourmet            52   \n341          G Mart 2 Supermarket            48   \n342    Bonne Chance Cafe & Bakery            22   \n\n                                       categories_json  rating  \\\n0    [[\"Breakfast & Brunch\", \"breakfast_brunch\"], [...     4.5   \n1                             [[\"Mexican\", \"mexican\"]]     4.5   \n2                           [[\"Japanese\", \"japanese\"]]     4.5   \n3         [[\"Italian\", \"italian\"], [\"Pizza\", \"pizza\"]]     4.5   \n4    [[\"Seafood\", \"seafood\"], [\"Live/Raw Food\", \"ra...     4.5   \n..                                                 ...     ...   \n338  [[\"Mediterranean\", \"mediterranean\"], [\"Middle ...     4.5   \n339  [[\"Japanese\", \"japanese\"], [\"Ethnic Food\", \"et...     4.0   \n340  [[\"Ethnic Food\", \"ethnicmarkets\"], [\"Grocery\",...     4.0   \n341  [[\"Grocery\", \"grocery\"], [\"Ethnic Food\", \"ethn...     4.0   \n342  [[\"Bakeries\", \"bakeries\"], [\"Coffee & Tea\", \"c...     4.0   \n\n                                          snippet_text  \\\n0    After going to Wheelhouse, you'll never order ...   \n1    So it's official, folks. We've finished our sa...   \n2    My husband and I came here to celebrate our 20...   \n3    Truly thankful that we stumbled on Locale whil...   \n4    Best lobster roll on the whole trip..... and I...   \n..                                                 ...   \n338  I went in around closing tonight because I was...   \n339  This is like a small (chibi) version of the Ja...   \n340  The Bazaar at 1432 Beacon Street, Brookline Ma...   \n341  Everything is inexpensive! I was so surprised ...   \n342  I have to say.... I've not had anything else o...   \n\n                                         location_json        neighborhood  \\\n0    {\"cross_streets\": \"Milk St & Batterymarch Arm\"...  Financial District   \n1    {\"city\": \"Boston\", \"display_address\": [\"3 Lewi...           North End   \n2    {\"city\": \"Boston\", \"display_address\": [\"9 E St...          Waterfront   \n3    {\"cross_streets\": \"Fleet St & Tileston St\", \"c...           North End   \n4    {\"cross_streets\": \"Hull St & Stillman St\", \"ci...           North End   \n..                                                 ...                 ...   \n338  {\"city\": \"Revere\", \"display_address\": [\"148 Sq...                 NaN   \n339  {\"city\": \"Cambridge\", \"display_address\": [\"Uni...       Porter Square   \n340  {\"city\": \"Brookline\", \"display_address\": [\"143...     Coolidge Corner   \n341  {\"cross_streets\": \"Beach St & Tufts St\", \"city...          Waterfront   \n342  {\"cross_streets\": \"Traverse St & Market St\", \"...                 NaN   \n\n      latitude  longitude search category  \n0    42.357926 -71.053962     restaurants  \n1    42.363309 -71.051800     restaurants  \n2    42.351408 -71.056867     restaurants  \n3    42.365085 -71.053187     restaurants  \n4    42.363618 -71.056012     restaurants  \n..         ...        ...             ...  \n338  42.423248 -71.009514   ethnicmarkets  \n339  42.387192 -71.118778   ethnicmarkets  \n340  42.341065 -71.126470   ethnicmarkets  \n341  42.351569 -71.058365   ethnicmarkets  \n342  42.364044 -71.059463   ethnicmarkets  \n\n[343 rows x 10 columns]",
      "text/html": "<div>\n<style scoped>\n    .dataframe tbody tr th:only-of-type {\n        vertical-align: middle;\n    }\n\n    .dataframe tbody tr th {\n        vertical-align: top;\n    }\n\n    .dataframe thead th {\n        text-align: right;\n    }\n</style>\n<table border=\"1\" class=\"dataframe\">\n  <thead>\n    <tr style=\"text-align: right;\">\n      <th></th>\n      <th>name</th>\n      <th>review_count</th>\n      <th>categories_json</th>\n      <th>rating</th>\n      <th>snippet_text</th>\n      <th>location_json</th>\n      <th>neighborhood</th>\n      <th>latitude</th>\n      <th>longitude</th>\n      <th>search category</th>\n    </tr>\n  </thead>\n  <tbody>\n    <tr>\n      <th>0</th>\n      <td>Wheelhouse</td>\n      <td>101</td>\n      <td>[[\"Breakfast &amp; Brunch\", \"breakfast_brunch\"], [...</td>\n      <td>4.5</td>\n      <td>After going to Wheelhouse, you'll never order ...</td>\n      <td>{\"cross_streets\": \"Milk St &amp; Batterymarch Arm\"...</td>\n      <td>Financial District</td>\n      <td>42.357926</td>\n      <td>-71.053962</td>\n      <td>restaurants</td>\n    </tr>\n    <tr>\n      <th>1</th>\n      <td>Tenoch Mexican</td>\n      <td>121</td>\n      <td>[[\"Mexican\", \"mexican\"]]</td>\n      <td>4.5</td>\n      <td>So it's official, folks. We've finished our sa...</td>\n      <td>{\"city\": \"Boston\", \"display_address\": [\"3 Lewi...</td>\n      <td>North End</td>\n      <td>42.363309</td>\n      <td>-71.051800</td>\n      <td>restaurants</td>\n    </tr>\n    <tr>\n      <th>2</th>\n      <td>O Ya</td>\n      <td>450</td>\n      <td>[[\"Japanese\", \"japanese\"]]</td>\n      <td>4.5</td>\n      <td>My husband and I came here to celebrate our 20...</td>\n      <td>{\"city\": \"Boston\", \"display_address\": [\"9 E St...</td>\n      <td>Waterfront</td>\n      <td>42.351408</td>\n      <td>-71.056867</td>\n      <td>restaurants</td>\n    </tr>\n    <tr>\n      <th>3</th>\n      <td>Locale</td>\n      <td>121</td>\n      <td>[[\"Italian\", \"italian\"], [\"Pizza\", \"pizza\"]]</td>\n      <td>4.5</td>\n      <td>Truly thankful that we stumbled on Locale whil...</td>\n      <td>{\"cross_streets\": \"Fleet St &amp; Tileston St\", \"c...</td>\n      <td>North End</td>\n      <td>42.365085</td>\n      <td>-71.053187</td>\n      <td>restaurants</td>\n    </tr>\n    <tr>\n      <th>4</th>\n      <td>Neptune Oyster</td>\n      <td>2487</td>\n      <td>[[\"Seafood\", \"seafood\"], [\"Live/Raw Food\", \"ra...</td>\n      <td>4.5</td>\n      <td>Best lobster roll on the whole trip..... and I...</td>\n      <td>{\"cross_streets\": \"Hull St &amp; Stillman St\", \"ci...</td>\n      <td>North End</td>\n      <td>42.363618</td>\n      <td>-71.056012</td>\n      <td>restaurants</td>\n    </tr>\n    <tr>\n      <th>...</th>\n      <td>...</td>\n      <td>...</td>\n      <td>...</td>\n      <td>...</td>\n      <td>...</td>\n      <td>...</td>\n      <td>...</td>\n      <td>...</td>\n      <td>...</td>\n      <td>...</td>\n    </tr>\n    <tr>\n      <th>338</th>\n      <td>El Madina</td>\n      <td>8</td>\n      <td>[[\"Mediterranean\", \"mediterranean\"], [\"Middle ...</td>\n      <td>4.5</td>\n      <td>I went in around closing tonight because I was...</td>\n      <td>{\"city\": \"Revere\", \"display_address\": [\"148 Sq...</td>\n      <td>NaN</td>\n      <td>42.423248</td>\n      <td>-71.009514</td>\n      <td>ethnicmarkets</td>\n    </tr>\n    <tr>\n      <th>339</th>\n      <td>The Shops at Porter</td>\n      <td>79</td>\n      <td>[[\"Japanese\", \"japanese\"], [\"Ethnic Food\", \"et...</td>\n      <td>4.0</td>\n      <td>This is like a small (chibi) version of the Ja...</td>\n      <td>{\"city\": \"Cambridge\", \"display_address\": [\"Uni...</td>\n      <td>Porter Square</td>\n      <td>42.387192</td>\n      <td>-71.118778</td>\n      <td>ethnicmarkets</td>\n    </tr>\n    <tr>\n      <th>340</th>\n      <td>Bazaar International Gourmet</td>\n      <td>52</td>\n      <td>[[\"Ethnic Food\", \"ethnicmarkets\"], [\"Grocery\",...</td>\n      <td>4.0</td>\n      <td>The Bazaar at 1432 Beacon Street, Brookline Ma...</td>\n      <td>{\"city\": \"Brookline\", \"display_address\": [\"143...</td>\n      <td>Coolidge Corner</td>\n      <td>42.341065</td>\n      <td>-71.126470</td>\n      <td>ethnicmarkets</td>\n    </tr>\n    <tr>\n      <th>341</th>\n      <td>G Mart 2 Supermarket</td>\n      <td>48</td>\n      <td>[[\"Grocery\", \"grocery\"], [\"Ethnic Food\", \"ethn...</td>\n      <td>4.0</td>\n      <td>Everything is inexpensive! I was so surprised ...</td>\n      <td>{\"cross_streets\": \"Beach St &amp; Tufts St\", \"city...</td>\n      <td>Waterfront</td>\n      <td>42.351569</td>\n      <td>-71.058365</td>\n      <td>ethnicmarkets</td>\n    </tr>\n    <tr>\n      <th>342</th>\n      <td>Bonne Chance Cafe &amp; Bakery</td>\n      <td>22</td>\n      <td>[[\"Bakeries\", \"bakeries\"], [\"Coffee &amp; Tea\", \"c...</td>\n      <td>4.0</td>\n      <td>I have to say.... I've not had anything else o...</td>\n      <td>{\"cross_streets\": \"Traverse St &amp; Market St\", \"...</td>\n      <td>NaN</td>\n      <td>42.364044</td>\n      <td>-71.059463</td>\n      <td>ethnicmarkets</td>\n    </tr>\n  </tbody>\n</table>\n<p>343 rows × 10 columns</p>\n</div>"
     },
     "execution_count": 3,
     "metadata": {},
     "output_type": "execute_result"
    }
   ],
   "source": [
    "df"
   ],
   "metadata": {
    "collapsed": false,
    "ExecuteTime": {
     "end_time": "2024-03-06T17:24:23.251672Z",
     "start_time": "2024-03-06T17:24:23.157343Z"
    }
   },
   "id": "3969b07b9a743f81",
   "execution_count": 3
  },
  {
   "cell_type": "code",
   "outputs": [],
   "source": [
    "df['categories_list'] = df['categories_json'].apply(lambda x: [i[1] for i in json.loads(x)])"
   ],
   "metadata": {
    "collapsed": false,
    "ExecuteTime": {
     "end_time": "2024-03-06T17:24:25.896055Z",
     "start_time": "2024-03-06T17:24:25.885293Z"
    }
   },
   "id": "78b3ca59cd1573cb",
   "execution_count": 4
  },
  {
   "cell_type": "code",
   "outputs": [],
   "source": [
    "df['search category in categoryList'] = df.apply(lambda x: x['search category'] in x['categories_list'], axis=1)"
   ],
   "metadata": {
    "collapsed": false,
    "ExecuteTime": {
     "end_time": "2024-03-06T17:24:26.331084Z",
     "start_time": "2024-03-06T17:24:26.324381Z"
    }
   },
   "id": "6ce056b689dfc874",
   "execution_count": 5
  },
  {
   "cell_type": "code",
   "outputs": [],
   "source": [],
   "metadata": {
    "collapsed": false,
    "ExecuteTime": {
     "end_time": "2024-03-06T17:24:27.945645Z",
     "start_time": "2024-03-06T17:24:27.931968Z"
    }
   },
   "id": "a17fccef6abaf622",
   "execution_count": 5
  },
  {
   "cell_type": "code",
   "outputs": [],
   "source": [],
   "metadata": {
    "collapsed": false,
    "ExecuteTime": {
     "end_time": "2024-03-06T17:24:29.608382Z",
     "start_time": "2024-03-06T17:24:29.597779Z"
    }
   },
   "id": "552fdfba33bf89d5",
   "execution_count": 5
  },
  {
   "cell_type": "code",
   "outputs": [],
   "source": [],
   "metadata": {
    "collapsed": false,
    "ExecuteTime": {
     "end_time": "2024-03-06T17:24:30.156952Z",
     "start_time": "2024-03-06T17:24:30.145372Z"
    }
   },
   "id": "61411b34e8c04898",
   "execution_count": 5
  },
  {
   "cell_type": "code",
   "outputs": [],
   "source": [],
   "metadata": {
    "collapsed": false,
    "ExecuteTime": {
     "end_time": "2024-03-06T17:24:30.344199Z",
     "start_time": "2024-03-06T17:24:30.334445Z"
    }
   },
   "id": "acd7113ec900eb21",
   "execution_count": 5
  },
  {
   "cell_type": "code",
   "outputs": [],
   "source": [
    "# merging rows with overlapping data\n",
    "counts = df.name.value_counts()"
   ],
   "metadata": {
    "collapsed": false,
    "ExecuteTime": {
     "end_time": "2024-03-06T17:24:30.760934Z",
     "start_time": "2024-03-06T17:24:30.750702Z"
    }
   },
   "id": "2e77c17307ee1b34",
   "execution_count": 6
  },
  {
   "cell_type": "code",
   "outputs": [
    {
     "data": {
      "text/plain": "<Figure size 640x480 with 1 Axes>",
      "image/png": "[encoded data removed]"
     },
     "metadata": {},
     "output_type": "display_data"
    }
   ],
   "source": [
    "plt.hist(counts.values, bins=4, edgecolor='black')\n",
    "\n",
    "plt.title('Distribution of Name value counts\\n(i.e., frequency of n repeats)')\n",
    "\n",
    "plt.xlabel('# of times unique name shows up\\n(i.e., dunkin appears 4 times)')\n",
    "plt.show()"
   ],
   "metadata": {
    "collapsed": false,
    "ExecuteTime": {
     "end_time": "2024-03-06T17:24:31.273159Z",
     "start_time": "2024-03-06T17:24:31.068514Z"
    }
   },
   "id": "4082e2a9f737ffd2",
   "execution_count": 7
  },
  {
   "cell_type": "code",
   "outputs": [
    {
     "data": {
      "text/plain": "               name  review_count  \\\n262  Dunkin' Donuts            30   \n264  Dunkin' Donuts            12   \n266  Dunkin' Donuts            27   \n267  Dunkin' Donuts             9   \n\n                                       categories_json  rating  \\\n262  [[\"Donuts\", \"donuts\"], [\"Coffee & Tea\", \"coffe...     4.0   \n264  [[\"Donuts\", \"donuts\"], [\"Coffee & Tea\", \"coffe...     4.0   \n266  [[\"Donuts\", \"donuts\"], [\"Coffee & Tea\", \"coffe...     3.5   \n267  [[\"Coffee & Tea\", \"coffee\"], [\"Donuts\", \"donut...     3.5   \n\n                                          snippet_text  \\\n262  A tiny little store, just like the donut holes...   \n264  The folks that work at this dunks are some tou...   \n266  I am a huge fan of Dunkin' Donuts!!! \\nI am al...   \n267  My iced coffees and food (whether it be a sand...   \n\n                                         location_json  neighborhood  \\\n262  {\"cross_streets\": \"Fairfield St & Exeter St\", ...      Back Bay   \n264  {\"cross_streets\": \"Ellery St\", \"city\": \"Boston...  South Boston   \n266  {\"cross_streets\": \"Tamworth St & Tremont St\", ...           NaN   \n267  {\"city\": \"Boston\", \"display_address\": [\"530 Co...           NaN   \n\n      latitude  longitude search category   categories_list  \\\n262  42.349651 -71.080002          donuts  [donuts, coffee]   \n264  42.329740 -71.057260          donuts  [donuts, coffee]   \n266  42.352249 -71.064888          donuts  [donuts, coffee]   \n267  42.348648 -71.096077          donuts  [coffee, donuts]   \n\n     search category in categoryList  \n262                             True  \n264                             True  \n266                             True  \n267                             True  ",
      "text/html": "<div>\n<style scoped>\n    .dataframe tbody tr th:only-of-type {\n        vertical-align: middle;\n    }\n\n    .dataframe tbody tr th {\n        vertical-align: top;\n    }\n\n    .dataframe thead th {\n        text-align: right;\n    }\n</style>\n<table border=\"1\" class=\"dataframe\">\n  <thead>\n    <tr style=\"text-align: right;\">\n      <th></th>\n      <th>name</th>\n      <th>review_count</th>\n      <th>categories_json</th>\n      <th>rating</th>\n      <th>snippet_text</th>\n      <th>location_json</th>\n      <th>neighborhood</th>\n      <th>latitude</th>\n      <th>longitude</th>\n      <th>search category</th>\n      <th>categories_list</th>\n      <th>search category in categoryList</th>\n    </tr>\n  </thead>\n  <tbody>\n    <tr>\n      <th>262</th>\n      <td>Dunkin' Donuts</td>\n      <td>30</td>\n      <td>[[\"Donuts\", \"donuts\"], [\"Coffee &amp; Tea\", \"coffe...</td>\n      <td>4.0</td>\n      <td>A tiny little store, just like the donut holes...</td>\n      <td>{\"cross_streets\": \"Fairfield St &amp; Exeter St\", ...</td>\n      <td>Back Bay</td>\n      <td>42.349651</td>\n      <td>-71.080002</td>\n      <td>donuts</td>\n      <td>[donuts, coffee]</td>\n      <td>True</td>\n    </tr>\n    <tr>\n      <th>264</th>\n      <td>Dunkin' Donuts</td>\n      <td>12</td>\n      <td>[[\"Donuts\", \"donuts\"], [\"Coffee &amp; Tea\", \"coffe...</td>\n      <td>4.0</td>\n      <td>The folks that work at this dunks are some tou...</td>\n      <td>{\"cross_streets\": \"Ellery St\", \"city\": \"Boston...</td>\n      <td>South Boston</td>\n      <td>42.329740</td>\n      <td>-71.057260</td>\n      <td>donuts</td>\n      <td>[donuts, coffee]</td>\n      <td>True</td>\n    </tr>\n    <tr>\n      <th>266</th>\n      <td>Dunkin' Donuts</td>\n      <td>27</td>\n      <td>[[\"Donuts\", \"donuts\"], [\"Coffee &amp; Tea\", \"coffe...</td>\n      <td>3.5</td>\n      <td>I am a huge fan of Dunkin' Donuts!!! \\nI am al...</td>\n      <td>{\"cross_streets\": \"Tamworth St &amp; Tremont St\", ...</td>\n      <td>NaN</td>\n      <td>42.352249</td>\n      <td>-71.064888</td>\n      <td>donuts</td>\n      <td>[donuts, coffee]</td>\n      <td>True</td>\n    </tr>\n    <tr>\n      <th>267</th>\n      <td>Dunkin' Donuts</td>\n      <td>9</td>\n      <td>[[\"Coffee &amp; Tea\", \"coffee\"], [\"Donuts\", \"donut...</td>\n      <td>3.5</td>\n      <td>My iced coffees and food (whether it be a sand...</td>\n      <td>{\"city\": \"Boston\", \"display_address\": [\"530 Co...</td>\n      <td>NaN</td>\n      <td>42.348648</td>\n      <td>-71.096077</td>\n      <td>donuts</td>\n      <td>[coffee, donuts]</td>\n      <td>True</td>\n    </tr>\n  </tbody>\n</table>\n</div>"
     },
     "execution_count": 8,
     "metadata": {},
     "output_type": "execute_result"
    }
   ],
   "source": [
    "df[df['name']==\"Dunkin' Donuts\"]"
   ],
   "metadata": {
    "collapsed": false,
    "ExecuteTime": {
     "end_time": "2024-03-06T17:24:31.513218Z",
     "start_time": "2024-03-06T17:24:31.500728Z"
    }
   },
   "id": "e417b4502ce2f816",
   "execution_count": 8
  },
  {
   "cell_type": "code",
   "outputs": [],
   "source": [
    "# take the case of dunkin, there are four entries each with DISTINCT locations, we would Not want to merge these\n",
    "\n",
    "# could maybe use keywords from aggregate list of reviews for each restaurant like this, but not sure how many of \n",
    "# these types of rows there are (ie ones with the same name but diff locs)\n",
    "\n",
    "dunkinList = df[df['name']==\"Dunkin' Donuts\"].index\n",
    "\n",
    "# for idx in dunkinList:\n",
    "#     for idx2 in dunkinList:\n",
    "#         if idx != idx2:\n",
    "#             display(df.loc[idx] == df.loc[idx2])"
   ],
   "metadata": {
    "collapsed": false,
    "ExecuteTime": {
     "end_time": "2024-03-06T17:24:33.275466Z",
     "start_time": "2024-03-06T17:24:33.264685Z"
    }
   },
   "id": "588a9c589ce2c65",
   "execution_count": 9
  },
  {
   "cell_type": "code",
   "outputs": [
    {
     "data": {
      "text/plain": "           name  review_count  \\\n135  Oppa Sushi            32   \n157  Oppa Sushi            32   \n\n                                       categories_json  rating  \\\n135  [[\"Sushi Bars\", \"sushi\"], [\"Japanese\", \"japane...     4.0   \n157  [[\"Sushi Bars\", \"sushi\"], [\"Japanese\", \"japane...     4.0   \n\n                                          snippet_text  \\\n135  My husband and I are always looking for a good...   \n157  My husband and I are always looking for a good...   \n\n                                         location_json      neighborhood  \\\n135  {\"cross_streets\": \"Commonwealth Ave & Glenvill...  Allston/Brighton   \n157  {\"cross_streets\": \"Commonwealth Ave & Glenvill...  Allston/Brighton   \n\n      latitude  longitude search category             categories_list  \\\n135  42.350904 -71.131315           sushi  [sushi, japanese, seafood]   \n157  42.350904 -71.131315        japanese  [sushi, japanese, seafood]   \n\n     search category in categoryList  \n135                             True  \n157                             True  ",
      "text/html": "<div>\n<style scoped>\n    .dataframe tbody tr th:only-of-type {\n        vertical-align: middle;\n    }\n\n    .dataframe tbody tr th {\n        vertical-align: top;\n    }\n\n    .dataframe thead th {\n        text-align: right;\n    }\n</style>\n<table border=\"1\" class=\"dataframe\">\n  <thead>\n    <tr style=\"text-align: right;\">\n      <th></th>\n      <th>name</th>\n      <th>review_count</th>\n      <th>categories_json</th>\n      <th>rating</th>\n      <th>snippet_text</th>\n      <th>location_json</th>\n      <th>neighborhood</th>\n      <th>latitude</th>\n      <th>longitude</th>\n      <th>search category</th>\n      <th>categories_list</th>\n      <th>search category in categoryList</th>\n    </tr>\n  </thead>\n  <tbody>\n    <tr>\n      <th>135</th>\n      <td>Oppa Sushi</td>\n      <td>32</td>\n      <td>[[\"Sushi Bars\", \"sushi\"], [\"Japanese\", \"japane...</td>\n      <td>4.0</td>\n      <td>My husband and I are always looking for a good...</td>\n      <td>{\"cross_streets\": \"Commonwealth Ave &amp; Glenvill...</td>\n      <td>Allston/Brighton</td>\n      <td>42.350904</td>\n      <td>-71.131315</td>\n      <td>sushi</td>\n      <td>[sushi, japanese, seafood]</td>\n      <td>True</td>\n    </tr>\n    <tr>\n      <th>157</th>\n      <td>Oppa Sushi</td>\n      <td>32</td>\n      <td>[[\"Sushi Bars\", \"sushi\"], [\"Japanese\", \"japane...</td>\n      <td>4.0</td>\n      <td>My husband and I are always looking for a good...</td>\n      <td>{\"cross_streets\": \"Commonwealth Ave &amp; Glenvill...</td>\n      <td>Allston/Brighton</td>\n      <td>42.350904</td>\n      <td>-71.131315</td>\n      <td>japanese</td>\n      <td>[sushi, japanese, seafood]</td>\n      <td>True</td>\n    </tr>\n  </tbody>\n</table>\n</div>"
     },
     "execution_count": 10,
     "metadata": {},
     "output_type": "execute_result"
    }
   ],
   "source": [
    "# some rows have almost completely duplicate info, like this one, Oppa Sushi rows 135 and 157\n",
    "# everything is the same EXCEPT search category, would want to replace value with list with both values?\n",
    "df[df['name']==\"Oppa Sushi\"]"
   ],
   "metadata": {
    "collapsed": false,
    "ExecuteTime": {
     "end_time": "2024-03-06T17:24:33.742431Z",
     "start_time": "2024-03-06T17:24:33.710007Z"
    }
   },
   "id": "2a8742068aeee392",
   "execution_count": 10
  },
  {
   "cell_type": "markdown",
   "source": [
    "## Can check distinct restaurant locations based on unique location json, then choose merge behavior"
   ],
   "metadata": {
    "collapsed": false
   },
   "id": "4449b85da825e4e5"
  },
  {
   "cell_type": "code",
   "outputs": [
    {
     "data": {
      "text/plain": "0      3\n1      1\n2      1\n3      2\n4      2\n      ..\n338    3\n339    3\n340    2\n341    2\n342    3\nName: categories_list, Length: 343, dtype: int64"
     },
     "execution_count": 11,
     "metadata": {},
     "output_type": "execute_result"
    }
   ],
   "source": [
    "df['categories_list'].apply(lambda x: len(x))"
   ],
   "metadata": {
    "collapsed": false,
    "ExecuteTime": {
     "end_time": "2024-03-06T17:24:34.788041Z",
     "start_time": "2024-03-06T17:24:34.778969Z"
    }
   },
   "id": "d6fc927540629b77",
   "execution_count": 11
  },
  {
   "cell_type": "code",
   "outputs": [],
   "source": [
    "unique_categories = set()\n",
    "categories_counts = {}\n",
    "\n",
    "\n",
    "for id, row in df.iterrows():\n",
    "    categories = json.loads(row[\"categories_json\"])\n",
    "    for category_pair in categories:\n",
    "        category = category_pair[1]\n",
    "        unique_categories.add(category)\n",
    "        if category not in categories_counts:\n",
    "            categories_counts[category] = 1\n",
    "        else:\n",
    "            categories_counts[category] += 1"
   ],
   "metadata": {
    "collapsed": false,
    "ExecuteTime": {
     "end_time": "2024-03-06T17:24:38.489642Z",
     "start_time": "2024-03-06T17:24:38.447163Z"
    }
   },
   "id": "1ed3f99df1f23ae6",
   "execution_count": 12
  },
  {
   "cell_type": "code",
   "outputs": [
    {
     "data": {
      "text/plain": "{'sandwiches': 43,\n 'italian': 41,\n 'coffee': 39,\n 'japanese': 37,\n 'sushi': 35,\n 'newamerican': 33,\n 'pizza': 32,\n 'bakeries': 28,\n 'vietnamese': 25,\n 'cafes': 23,\n 'thai': 23,\n 'mexican': 21,\n 'indpak': 21,\n 'donuts': 20,\n 'french': 19,\n 'ethnicmarkets': 19,\n 'chinese': 18,\n 'breakfast_brunch': 15,\n 'seafood': 15,\n 'delis': 11,\n 'grocery': 10,\n 'bars': 9,\n 'desserts': 9,\n 'salad': 7,\n 'korean': 7,\n 'asianfusion': 7,\n 'burgers': 6,\n 'lounges': 6,\n 'foodtrucks': 6,\n 'vegan': 5,\n 'cocktailbars': 5,\n 'icecream': 5,\n 'wine_bars': 4,\n 'tapasmallplates': 4,\n 'vegetarian': 4,\n 'hotpot': 4,\n 'mediterranean': 3,\n 'catering': 3,\n 'pakistani': 3,\n 'tradamerican': 2,\n 'pubs': 2,\n 'bubbletea': 2,\n 'hotdogs': 2,\n 'greek': 2,\n 'mideastern': 2,\n 'raw_food': 1,\n 'gluten_free': 1,\n 'spanish': 1,\n 'juicebars': 1,\n 'belgian': 1,\n 'gastropubs': 1,\n 'steak': 1,\n 'cheese': 1,\n 'cheesesteaks': 1,\n 'diners': 1,\n 'turkish': 1,\n 'falafel': 1,\n 'bangladeshi': 1,\n 'himalayan': 1,\n 'halal': 1,\n 'ramen': 1,\n 'mongolian': 1,\n 'dimsum': 1,\n 'cantonese': 1,\n 'latin': 1,\n 'foodstands': 1,\n 'cupcakes': 1,\n 'armenian': 1,\n 'polish': 1,\n 'ukrainian': 1,\n 'shopping': 1}"
     },
     "execution_count": 13,
     "metadata": {},
     "output_type": "execute_result"
    }
   ],
   "source": [
    "# sorted_items = sorted(my_dict.items(), key=lambda item: item[1])\n",
    "\n",
    "dict(sorted(categories_counts.items(), key=lambda x: x[1], reverse=True))"
   ],
   "metadata": {
    "collapsed": false,
    "ExecuteTime": {
     "end_time": "2024-03-06T17:24:40.064679Z",
     "start_time": "2024-03-06T17:24:40.041242Z"
    }
   },
   "id": "1a48725b7fad21a8",
   "execution_count": 13
  },
  {
   "cell_type": "code",
   "outputs": [],
   "source": [
    "cuisineCategories = {\n",
    "    \"Cuisine\": {\n",
    "        \"Italian\": [\"italian\", \"pizza\"],\n",
    "        \"Asian\": [\"japanese\", \"sushi\", \"vietnamese\", \"thai\", \"chinese\", \"korean\", \"asianfusion\", \"pakistani\",\n",
    "                  \"bangladeshi\", \"himalayan\", \"mongolian\", \"dimsum\", \"cantonese\", \"armenian\", \"hotpot\"],\n",
    "        \"American\": [\"newamerican\", \"tradamerican\"],\n",
    "        \"Mexican & Latin\": [\"mexican\", \"latin\"],\n",
    "        \"Indian & Middle Eastern\": [\"indpak\", \"mideastern\", \"turkish\", \"falafel\", \"halal\"],\n",
    "        \"European\": [\"french\", \"greek\", \"mediterranean\", \"spanish\", \"belgian\", \"polish\", \"ukrainian\"],\n",
    "        \"Comfort Food\": [\"pizza\", \"burgers\", \"cheese\", \"cheesesteaks\", \"hotdogs\", \"steak\"]\n",
    "    },\n",
    "    \"Food Type\": {\n",
    "        \"Bakery & Sweets\": [\"bakeries\", \"donuts\", \"desserts\", \"cupcakes\"],\n",
    "        \"Breakfast & Brunch\": [\"coffee\", \"breakfast_brunch\"],\n",
    "        \"Healthy & Specialty\": [\"salad\", \"vegan\", \"vegetarian\", \"raw_food\", \"gluten_free\"],\n",
    "        \"Seafood\": [\"seafood\", \"sushi\"],\n",
    "        \"Beverages\": [\"coffee\", \"bubbletea\", \"juicebars\"],\n",
    "        \"Snacks\": [\"icecream\", \"tapasmallplates\", \"ramen\"]\n",
    "    },\n",
    "    \"Venue Type\": {\n",
    "        \"Casual & Quick Bites\": [\"sandwiches\", \"cafes\", \"delis\", \"foodtrucks\", \"fastfood\", \"hotdogs\", \"diners\"],\n",
    "        \"Markets\": [\"ethnicmarkets\", \"grocery\"],\n",
    "        \"Dining & Bars\": [\"bars\", \"lounges\", \"cocktailbars\", \"wine_bars\", \"pubs\", \"gastropubs\"],\n",
    "        \"Service Oriented\": [\"catering\", \"foodstands\"],\n",
    "        \"Shopping\": [\"shopping\"]\n",
    "    }\n",
    "}"
   ],
   "metadata": {
    "collapsed": false,
    "ExecuteTime": {
     "end_time": "2024-03-06T17:50:02.609265Z",
     "start_time": "2024-03-06T17:50:02.593176Z"
    }
   },
   "id": "2b526cb4c643ff7d",
   "execution_count": 29
  },
  {
   "cell_type": "code",
   "outputs": [],
   "source": [
    "# Function to recursively find all strings (both keys and values) in a complex dictionary\n",
    "def find_all_strings(d, all_strings):\n",
    "    for k, v in d.items():\n",
    "        # Add key to the list\n",
    "        all_strings.add(k)\n",
    "        # If value is a string, add to the list\n",
    "        if isinstance(v, str):\n",
    "            all_strings.add(v)\n",
    "        # If value is a list, add each string element in the list\n",
    "        elif isinstance(v, list):\n",
    "            for item in v:\n",
    "                if isinstance(item, str):\n",
    "                    all_strings.add(item)\n",
    "        # If value is a dictionary, recursively find strings\n",
    "        elif isinstance(v, dict):\n",
    "            find_all_strings(v, all_strings)\n",
    "\n",
    "\n",
    "# Create an empty set to hold all unique strings\n",
    "all_strings = set()\n",
    "\n",
    "# Call the function with the complex dictionary\n",
    "# We assume that the variable 'complex_dict' is the dictionary provided above\n",
    "find_all_strings(cuisineCategories, all_strings)\n",
    "\n",
    "# Convert the set to"
   ],
   "metadata": {
    "collapsed": false,
    "ExecuteTime": {
     "end_time": "2024-03-06T17:50:04.059585Z",
     "start_time": "2024-03-06T17:50:04.032687Z"
    }
   },
   "id": "ddc8d8e38a91d8c2",
   "execution_count": 30
  },
  {
   "cell_type": "code",
   "outputs": [
    {
     "data": {
      "text/plain": "{}"
     },
     "execution_count": 31,
     "metadata": {},
     "output_type": "execute_result"
    }
   ],
   "source": [
    "categoriesInHeirarch = {category: all_strings.__contains__(category) for category in unique_categories}\n",
    "{category: n for category, n in categoriesInHeirarch.items() if not (n)}"
   ],
   "metadata": {
    "collapsed": false,
    "ExecuteTime": {
     "end_time": "2024-03-06T17:50:04.944345Z",
     "start_time": "2024-03-06T17:50:04.929921Z"
    }
   },
   "id": "d15e61c0f1f703c7",
   "execution_count": 31
  },
  {
   "cell_type": "code",
   "outputs": [],
   "source": [],
   "metadata": {
    "collapsed": false
   },
   "id": "3bfc26d24ea58563"
  },
  {
   "cell_type": "code",
   "outputs": [],
   "source": [],
   "metadata": {
    "collapsed": false
   },
   "id": "8d973e98c40db326"
  },
  {
   "cell_type": "code",
   "outputs": [],
   "source": [
    "df = pd.DataFrame(list(categories_counts.items()), columns=['Category', 'Count'])\n",
    "\n",
    "# Convert the DataFrame to a CSV format string (without the index, with headers)\n",
    "# csv_string = df.to_csv(index=False, header=True, sep='\\t')"
   ],
   "metadata": {
    "collapsed": false,
    "ExecuteTime": {
     "end_time": "2024-03-06T17:00:18.655969Z",
     "start_time": "2024-03-06T17:00:18.644269Z"
    }
   },
   "id": "347e3be09362b005",
   "execution_count": 76
  },
  {
   "cell_type": "code",
   "outputs": [],
   "source": [
    "df.to_clipboard()"
   ],
   "metadata": {
    "collapsed": false,
    "ExecuteTime": {
     "end_time": "2024-03-06T17:00:27.411085Z",
     "start_time": "2024-03-06T17:00:27.376783Z"
    }
   },
   "id": "570f917fa1495b4f",
   "execution_count": 78
  },
  {
   "cell_type": "code",
   "outputs": [],
   "source": [
    "df['categories_list'].apply(pd.Series).to_clipboard()"
   ],
   "metadata": {
    "collapsed": false,
    "ExecuteTime": {
     "end_time": "2024-03-06T16:40:25.085282Z",
     "start_time": "2024-03-06T16:40:25.022924Z"
    }
   },
   "id": "9511eeecbb2ed103",
   "execution_count": 72
  },
  {
   "cell_type": "code",
   "outputs": [
    {
     "name": "stdout",
     "output_type": "stream",
     "text": [
      "{'polish', 'icecream', 'bars', 'gluten_free', 'italian', 'belgian', 'french', 'raw_food', 'tradamerican', 'pubs', 'cocktailbars', 'pizza', 'dimsum', 'coffee', 'vegetarian', 'cupcakes', 'japanese', 'burgers', 'chinese', 'sandwiches', 'mexican', 'falafel', 'halal', 'vegan', 'cafes', 'ramen', 'foodtrucks', 'bangladeshi', 'steak', 'bakeries', 'shopping', 'donuts', 'tapasmallplates', 'vietnamese', 'grocery', 'mediterranean', 'cheesesteaks', 'thai', 'breakfast_brunch', 'pakistani', 'sushi', 'delis', 'mideastern', 'salad', 'bubbletea', 'desserts', 'mongolian', 'ukrainian', 'gastropubs', 'cantonese', 'asianfusion', 'ethnicmarkets', 'foodstands', 'korean', 'lounges', 'hotdogs', 'hotpot', 'cheese', 'newamerican', 'himalayan', 'catering', 'armenian', 'juicebars', 'diners', 'wine_bars', 'indpak', 'latin', 'seafood', 'greek', 'spanish', 'turkish'}\n",
      "\n",
      "71\n"
     ]
    }
   ],
   "source": [
    "print(unique_categories, len(unique_categories), sep=\"\\n\\n\")"
   ],
   "metadata": {
    "collapsed": false,
    "ExecuteTime": {
     "end_time": "2024-03-06T02:20:44.953329Z",
     "start_time": "2024-03-06T02:20:44.945115Z"
    }
   },
   "id": "a0711f9180f2268b",
   "execution_count": 18
  },
  {
   "cell_type": "code",
   "outputs": [],
   "source": [
    "location_counts = df.location_json.value_counts()"
   ],
   "metadata": {
    "collapsed": false,
    "ExecuteTime": {
     "end_time": "2024-03-06T02:20:46.861687Z",
     "start_time": "2024-03-06T02:20:46.858316Z"
    }
   },
   "id": "9e06ea2035a93b89",
   "execution_count": 19
  },
  {
   "cell_type": "code",
   "outputs": [
    {
     "data": {
      "text/plain": "<Figure size 640x480 with 1 Axes>",
      "image/png": "[encoded data removed]"
     },
     "metadata": {},
     "output_type": "display_data"
    }
   ],
   "source": [
    "plt.hist(location_counts.values, bins=3, edgecolor='black')\n",
    "\n",
    "plt.title('Unique locations')\n",
    "\n",
    "plt.xlabel('# of times unique location shows up')\n",
    "plt.show()"
   ],
   "metadata": {
    "collapsed": false,
    "ExecuteTime": {
     "end_time": "2024-03-06T02:20:53.867144Z",
     "start_time": "2024-03-06T02:20:53.775848Z"
    }
   },
   "id": "437c5c76486f2710",
   "execution_count": 21
  },
  {
   "cell_type": "code",
   "outputs": [
    {
     "data": {
      "text/plain": "              name search category  \\\n84   Banh Mi House      sandwiches   \n180     68 Chinese         chinese   \n305  Banh Mi House      vietnamese   \n\n                                       categories_json  \n84   [[\"Bubble Tea\", \"bubbletea\"], [\"Sandwiches\", \"...  \n180                           [[\"Chinese\", \"chinese\"]]  \n305  [[\"Bubble Tea\", \"bubbletea\"], [\"Sandwiches\", \"...  ",
      "text/html": "<div>\n<style scoped>\n    .dataframe tbody tr th:only-of-type {\n        vertical-align: middle;\n    }\n\n    .dataframe tbody tr th {\n        vertical-align: top;\n    }\n\n    .dataframe thead th {\n        text-align: right;\n    }\n</style>\n<table border=\"1\" class=\"dataframe\">\n  <thead>\n    <tr style=\"text-align: right;\">\n      <th></th>\n      <th>name</th>\n      <th>search category</th>\n      <th>categories_json</th>\n    </tr>\n  </thead>\n  <tbody>\n    <tr>\n      <th>84</th>\n      <td>Banh Mi House</td>\n      <td>sandwiches</td>\n      <td>[[\"Bubble Tea\", \"bubbletea\"], [\"Sandwiches\", \"...</td>\n    </tr>\n    <tr>\n      <th>180</th>\n      <td>68 Chinese</td>\n      <td>chinese</td>\n      <td>[[\"Chinese\", \"chinese\"]]</td>\n    </tr>\n    <tr>\n      <th>305</th>\n      <td>Banh Mi House</td>\n      <td>vietnamese</td>\n      <td>[[\"Bubble Tea\", \"bubbletea\"], [\"Sandwiches\", \"...</td>\n    </tr>\n  </tbody>\n</table>\n</div>"
     },
     "execution_count": 24,
     "metadata": {},
     "output_type": "execute_result"
    }
   ],
   "source": [
    "# but note this instance where 3 rows have identical location json strings, but DIFFERENT names,\n",
    "# would want to merge two of these (the Banh Me Houses)\n",
    "\n",
    "df[df.location_json == '''{\"cross_streets\": \"Tremont St & Temple Pl\", \"city\": \"Boston\", \"display_address\": [\"48 Winter St\", \"Downtown\", \"Boston, MA 02108\"], \"geo_accuracy\": 8.0, \"neighborhoods\": [\"Downtown\"], \"postal_code\": \"02108\", \"country_code\": \"US\", \"address\": [\"48 Winter St\"], \"coordinate\": {\"latitude\": 42.3559303, \"longitude\": -71.0619736}, \"state_code\": \"MA\"}'''].loc[:, [\"name\", \"search category\", \"categories_json\"]]"
   ],
   "metadata": {
    "collapsed": false,
    "ExecuteTime": {
     "end_time": "2024-03-06T02:22:14.782773Z",
     "start_time": "2024-03-06T02:22:14.777368Z"
    }
   },
   "id": "2df97b73b0f143ad",
   "execution_count": 24
  },
  {
   "cell_type": "code",
   "outputs": [],
   "source": [],
   "metadata": {
    "collapsed": false
   },
   "id": "a1e7d6298d7d6190"
  },
  {
   "cell_type": "markdown",
   "source": [
    "# Solution: \n",
    "For each row with same location json, check if the rows have the same name\n",
    "Then check for whether everything except search category are equal (handling nas)\n",
    "\n",
    "## Next steps: merging overlapping rows\n",
    "- Maybe turn search category into a list, combine values where appropriate\n",
    "\n",
    "### Note: overlapping coordinates\n",
    "(i.e., above example with Banh Mi House and 86 Chinese idxs 84 180 305)\n",
    "\n",
    "#### ***may need to jitter location on map?***"
   ],
   "metadata": {
    "collapsed": false
   },
   "id": "1fe138b58020ed70"
  },
  {
   "cell_type": "code",
   "outputs": [
    {
     "name": "stdout",
     "output_type": "stream",
     "text": [
      "\n",
      "\n",
      " 0\n"
     ]
    }
   ],
   "source": [
    "countBreakingExpectation = 0\n",
    "for location in location_counts.index:\n",
    "    currentLocRows = df[df['location_json']==location]\n",
    "    for row in currentLocRows.index:\n",
    "        for row2 in currentLocRows.index:\n",
    "            if row != row2:\n",
    "                # fills na values so they compare as equal\n",
    "                comparison = (\n",
    "                                 currentLocRows.loc[row].fillna(value=\"###NONE###\") ==\n",
    "                                 currentLocRows.loc[row2].fillna(value=\"###NONE###\")\n",
    "                )\n",
    "                # if the names are equal\n",
    "                if comparison['name']:\n",
    "                    # check if follows expectation\n",
    "                    if not(all(comparison.values[:-1]) & ~comparison.values[-1]):\n",
    "                        print(\"not in line with theory\")\n",
    "                        print(row, row2)\n",
    "                        countBreakingExpectation += 1\n",
    "print(\"\\n\\n\", countBreakingExpectation)                    "
   ],
   "metadata": {
    "collapsed": false,
    "ExecuteTime": {
     "end_time": "2024-03-06T02:21:26.334132Z",
     "start_time": "2024-03-06T02:21:26.271534Z"
    }
   },
   "id": "603f89b6a85f0922",
   "execution_count": 23
  },
  {
   "cell_type": "code",
   "outputs": [
    {
     "ename": "KeyError",
     "evalue": "'search category'",
     "output_type": "error",
     "traceback": [
      "\u001B[0;31m---------------------------------------------------------------------------\u001B[0m",
      "\u001B[0;31mKeyError\u001B[0m                                  Traceback (most recent call last)",
      "Cell \u001B[0;32mIn[73], line 1\u001B[0m\n\u001B[0;32m----> 1\u001B[0m \u001B[43mdf\u001B[49m\u001B[38;5;241;43m.\u001B[39;49m\u001B[43mapply\u001B[49m\u001B[43m(\u001B[49m\u001B[38;5;28;43;01mlambda\u001B[39;49;00m\u001B[43m \u001B[49m\u001B[43mx\u001B[49m\u001B[43m:\u001B[49m\u001B[43m \u001B[49m\u001B[43mx\u001B[49m\u001B[43m[\u001B[49m\u001B[38;5;124;43m'\u001B[39;49m\u001B[38;5;124;43msearch category\u001B[39;49m\u001B[38;5;124;43m'\u001B[39;49m\u001B[43m]\u001B[49m\u001B[43m \u001B[49m\u001B[38;5;129;43;01min\u001B[39;49;00m\u001B[43m \u001B[49m\u001B[43mx\u001B[49m\u001B[43m[\u001B[49m\u001B[38;5;124;43m'\u001B[39;49m\u001B[38;5;124;43mcategories_list\u001B[39;49m\u001B[38;5;124;43m'\u001B[39;49m\u001B[43m]\u001B[49m\u001B[43m)\u001B[49m\n",
      "File \u001B[0;32m~/Cornell/INFO4310/venv/lib/python3.9/site-packages/pandas/core/frame.py:10347\u001B[0m, in \u001B[0;36mDataFrame.apply\u001B[0;34m(self, func, axis, raw, result_type, args, by_row, engine, engine_kwargs, **kwargs)\u001B[0m\n\u001B[1;32m  10333\u001B[0m \u001B[38;5;28;01mfrom\u001B[39;00m \u001B[38;5;21;01mpandas\u001B[39;00m\u001B[38;5;21;01m.\u001B[39;00m\u001B[38;5;21;01mcore\u001B[39;00m\u001B[38;5;21;01m.\u001B[39;00m\u001B[38;5;21;01mapply\u001B[39;00m \u001B[38;5;28;01mimport\u001B[39;00m frame_apply\n\u001B[1;32m  10335\u001B[0m op \u001B[38;5;241m=\u001B[39m frame_apply(\n\u001B[1;32m  10336\u001B[0m     \u001B[38;5;28mself\u001B[39m,\n\u001B[1;32m  10337\u001B[0m     func\u001B[38;5;241m=\u001B[39mfunc,\n\u001B[0;32m   (...)\u001B[0m\n\u001B[1;32m  10345\u001B[0m     kwargs\u001B[38;5;241m=\u001B[39mkwargs,\n\u001B[1;32m  10346\u001B[0m )\n\u001B[0;32m> 10347\u001B[0m \u001B[38;5;28;01mreturn\u001B[39;00m \u001B[43mop\u001B[49m\u001B[38;5;241;43m.\u001B[39;49m\u001B[43mapply\u001B[49m\u001B[43m(\u001B[49m\u001B[43m)\u001B[49m\u001B[38;5;241m.\u001B[39m__finalize__(\u001B[38;5;28mself\u001B[39m, method\u001B[38;5;241m=\u001B[39m\u001B[38;5;124m\"\u001B[39m\u001B[38;5;124mapply\u001B[39m\u001B[38;5;124m\"\u001B[39m)\n",
      "File \u001B[0;32m~/Cornell/INFO4310/venv/lib/python3.9/site-packages/pandas/core/apply.py:916\u001B[0m, in \u001B[0;36mFrameApply.apply\u001B[0;34m(self)\u001B[0m\n\u001B[1;32m    913\u001B[0m \u001B[38;5;28;01melif\u001B[39;00m \u001B[38;5;28mself\u001B[39m\u001B[38;5;241m.\u001B[39mraw:\n\u001B[1;32m    914\u001B[0m     \u001B[38;5;28;01mreturn\u001B[39;00m \u001B[38;5;28mself\u001B[39m\u001B[38;5;241m.\u001B[39mapply_raw(engine\u001B[38;5;241m=\u001B[39m\u001B[38;5;28mself\u001B[39m\u001B[38;5;241m.\u001B[39mengine, engine_kwargs\u001B[38;5;241m=\u001B[39m\u001B[38;5;28mself\u001B[39m\u001B[38;5;241m.\u001B[39mengine_kwargs)\n\u001B[0;32m--> 916\u001B[0m \u001B[38;5;28;01mreturn\u001B[39;00m \u001B[38;5;28;43mself\u001B[39;49m\u001B[38;5;241;43m.\u001B[39;49m\u001B[43mapply_standard\u001B[49m\u001B[43m(\u001B[49m\u001B[43m)\u001B[49m\n",
      "File \u001B[0;32m~/Cornell/INFO4310/venv/lib/python3.9/site-packages/pandas/core/apply.py:1063\u001B[0m, in \u001B[0;36mFrameApply.apply_standard\u001B[0;34m(self)\u001B[0m\n\u001B[1;32m   1061\u001B[0m \u001B[38;5;28;01mdef\u001B[39;00m \u001B[38;5;21mapply_standard\u001B[39m(\u001B[38;5;28mself\u001B[39m):\n\u001B[1;32m   1062\u001B[0m     \u001B[38;5;28;01mif\u001B[39;00m \u001B[38;5;28mself\u001B[39m\u001B[38;5;241m.\u001B[39mengine \u001B[38;5;241m==\u001B[39m \u001B[38;5;124m\"\u001B[39m\u001B[38;5;124mpython\u001B[39m\u001B[38;5;124m\"\u001B[39m:\n\u001B[0;32m-> 1063\u001B[0m         results, res_index \u001B[38;5;241m=\u001B[39m \u001B[38;5;28;43mself\u001B[39;49m\u001B[38;5;241;43m.\u001B[39;49m\u001B[43mapply_series_generator\u001B[49m\u001B[43m(\u001B[49m\u001B[43m)\u001B[49m\n\u001B[1;32m   1064\u001B[0m     \u001B[38;5;28;01melse\u001B[39;00m:\n\u001B[1;32m   1065\u001B[0m         results, res_index \u001B[38;5;241m=\u001B[39m \u001B[38;5;28mself\u001B[39m\u001B[38;5;241m.\u001B[39mapply_series_numba()\n",
      "File \u001B[0;32m~/Cornell/INFO4310/venv/lib/python3.9/site-packages/pandas/core/apply.py:1081\u001B[0m, in \u001B[0;36mFrameApply.apply_series_generator\u001B[0;34m(self)\u001B[0m\n\u001B[1;32m   1078\u001B[0m \u001B[38;5;28;01mwith\u001B[39;00m option_context(\u001B[38;5;124m\"\u001B[39m\u001B[38;5;124mmode.chained_assignment\u001B[39m\u001B[38;5;124m\"\u001B[39m, \u001B[38;5;28;01mNone\u001B[39;00m):\n\u001B[1;32m   1079\u001B[0m     \u001B[38;5;28;01mfor\u001B[39;00m i, v \u001B[38;5;129;01min\u001B[39;00m \u001B[38;5;28menumerate\u001B[39m(series_gen):\n\u001B[1;32m   1080\u001B[0m         \u001B[38;5;66;03m# ignore SettingWithCopy here in case the user mutates\u001B[39;00m\n\u001B[0;32m-> 1081\u001B[0m         results[i] \u001B[38;5;241m=\u001B[39m \u001B[38;5;28;43mself\u001B[39;49m\u001B[38;5;241;43m.\u001B[39;49m\u001B[43mfunc\u001B[49m\u001B[43m(\u001B[49m\u001B[43mv\u001B[49m\u001B[43m,\u001B[49m\u001B[43m \u001B[49m\u001B[38;5;241;43m*\u001B[39;49m\u001B[38;5;28;43mself\u001B[39;49m\u001B[38;5;241;43m.\u001B[39;49m\u001B[43margs\u001B[49m\u001B[43m,\u001B[49m\u001B[43m \u001B[49m\u001B[38;5;241;43m*\u001B[39;49m\u001B[38;5;241;43m*\u001B[39;49m\u001B[38;5;28;43mself\u001B[39;49m\u001B[38;5;241;43m.\u001B[39;49m\u001B[43mkwargs\u001B[49m\u001B[43m)\u001B[49m\n\u001B[1;32m   1082\u001B[0m         \u001B[38;5;28;01mif\u001B[39;00m \u001B[38;5;28misinstance\u001B[39m(results[i], ABCSeries):\n\u001B[1;32m   1083\u001B[0m             \u001B[38;5;66;03m# If we have a view on v, we need to make a copy because\u001B[39;00m\n\u001B[1;32m   1084\u001B[0m             \u001B[38;5;66;03m#  series_generator will swap out the underlying data\u001B[39;00m\n\u001B[1;32m   1085\u001B[0m             results[i] \u001B[38;5;241m=\u001B[39m results[i]\u001B[38;5;241m.\u001B[39mcopy(deep\u001B[38;5;241m=\u001B[39m\u001B[38;5;28;01mFalse\u001B[39;00m)\n",
      "Cell \u001B[0;32mIn[73], line 1\u001B[0m, in \u001B[0;36m<lambda>\u001B[0;34m(x)\u001B[0m\n\u001B[0;32m----> 1\u001B[0m df\u001B[38;5;241m.\u001B[39mapply(\u001B[38;5;28;01mlambda\u001B[39;00m x: \u001B[43mx\u001B[49m\u001B[43m[\u001B[49m\u001B[38;5;124;43m'\u001B[39;49m\u001B[38;5;124;43msearch category\u001B[39;49m\u001B[38;5;124;43m'\u001B[39;49m\u001B[43m]\u001B[49m \u001B[38;5;129;01min\u001B[39;00m x[\u001B[38;5;124m'\u001B[39m\u001B[38;5;124mcategories_list\u001B[39m\u001B[38;5;124m'\u001B[39m])\n",
      "File \u001B[0;32m~/Cornell/INFO4310/venv/lib/python3.9/site-packages/pandas/core/series.py:1111\u001B[0m, in \u001B[0;36mSeries.__getitem__\u001B[0;34m(self, key)\u001B[0m\n\u001B[1;32m   1108\u001B[0m     \u001B[38;5;28;01mreturn\u001B[39;00m \u001B[38;5;28mself\u001B[39m\u001B[38;5;241m.\u001B[39m_values[key]\n\u001B[1;32m   1110\u001B[0m \u001B[38;5;28;01melif\u001B[39;00m key_is_scalar:\n\u001B[0;32m-> 1111\u001B[0m     \u001B[38;5;28;01mreturn\u001B[39;00m \u001B[38;5;28;43mself\u001B[39;49m\u001B[38;5;241;43m.\u001B[39;49m\u001B[43m_get_value\u001B[49m\u001B[43m(\u001B[49m\u001B[43mkey\u001B[49m\u001B[43m)\u001B[49m\n\u001B[1;32m   1113\u001B[0m \u001B[38;5;66;03m# Convert generator to list before going through hashable part\u001B[39;00m\n\u001B[1;32m   1114\u001B[0m \u001B[38;5;66;03m# (We will iterate through the generator there to check for slices)\u001B[39;00m\n\u001B[1;32m   1115\u001B[0m \u001B[38;5;28;01mif\u001B[39;00m is_iterator(key):\n",
      "File \u001B[0;32m~/Cornell/INFO4310/venv/lib/python3.9/site-packages/pandas/core/series.py:1227\u001B[0m, in \u001B[0;36mSeries._get_value\u001B[0;34m(self, label, takeable)\u001B[0m\n\u001B[1;32m   1224\u001B[0m     \u001B[38;5;28;01mreturn\u001B[39;00m \u001B[38;5;28mself\u001B[39m\u001B[38;5;241m.\u001B[39m_values[label]\n\u001B[1;32m   1226\u001B[0m \u001B[38;5;66;03m# Similar to Index.get_value, but we do not fall back to positional\u001B[39;00m\n\u001B[0;32m-> 1227\u001B[0m loc \u001B[38;5;241m=\u001B[39m \u001B[38;5;28;43mself\u001B[39;49m\u001B[38;5;241;43m.\u001B[39;49m\u001B[43mindex\u001B[49m\u001B[38;5;241;43m.\u001B[39;49m\u001B[43mget_loc\u001B[49m\u001B[43m(\u001B[49m\u001B[43mlabel\u001B[49m\u001B[43m)\u001B[49m\n\u001B[1;32m   1229\u001B[0m \u001B[38;5;28;01mif\u001B[39;00m is_integer(loc):\n\u001B[1;32m   1230\u001B[0m     \u001B[38;5;28;01mreturn\u001B[39;00m \u001B[38;5;28mself\u001B[39m\u001B[38;5;241m.\u001B[39m_values[loc]\n",
      "File \u001B[0;32m~/Cornell/INFO4310/venv/lib/python3.9/site-packages/pandas/core/indexes/range.py:417\u001B[0m, in \u001B[0;36mRangeIndex.get_loc\u001B[0;34m(self, key)\u001B[0m\n\u001B[1;32m    415\u001B[0m         \u001B[38;5;28;01mraise\u001B[39;00m \u001B[38;5;167;01mKeyError\u001B[39;00m(key) \u001B[38;5;28;01mfrom\u001B[39;00m \u001B[38;5;21;01merr\u001B[39;00m\n\u001B[1;32m    416\u001B[0m \u001B[38;5;28;01mif\u001B[39;00m \u001B[38;5;28misinstance\u001B[39m(key, Hashable):\n\u001B[0;32m--> 417\u001B[0m     \u001B[38;5;28;01mraise\u001B[39;00m \u001B[38;5;167;01mKeyError\u001B[39;00m(key)\n\u001B[1;32m    418\u001B[0m \u001B[38;5;28mself\u001B[39m\u001B[38;5;241m.\u001B[39m_check_indexing_error(key)\n\u001B[1;32m    419\u001B[0m \u001B[38;5;28;01mraise\u001B[39;00m \u001B[38;5;167;01mKeyError\u001B[39;00m(key)\n",
      "\u001B[0;31mKeyError\u001B[0m: 'search category'"
     ]
    }
   ],
   "source": [
    "df.apply(lambda x: x['search category'] in x['categories_list'])"
   ],
   "metadata": {
    "collapsed": false,
    "ExecuteTime": {
     "end_time": "2024-03-06T16:56:04.671615Z",
     "start_time": "2024-03-06T16:56:04.586911Z"
    }
   },
   "id": "60a13ba09c1cede4",
   "execution_count": 73
  },
  {
   "cell_type": "code",
   "outputs": [],
   "source": [],
   "metadata": {
    "collapsed": false
   },
   "id": "4b58474bf350348f"
  }
 ],
 "metadata": {
  "kernelspec": {
   "display_name": "Python 3",
   "language": "python",
   "name": "python3"
  },
  "language_info": {
   "codemirror_mode": {
    "name": "ipython",
    "version": 2
   },
   "file_extension": ".py",
   "mimetype": "text/x-python",
   "name": "python",
   "nbconvert_exporter": "python",
   "pygments_lexer": "ipython2",
   "version": "2.7.6"
  }
 },
 "nbformat": 4,
 "nbformat_minor": 5
}
